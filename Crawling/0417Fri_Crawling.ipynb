{
 "cells": [
  {
   "cell_type": "code",
   "execution_count": 10,
   "metadata": {},
   "outputs": [
    {
     "name": "stdout",
     "output_type": "stream",
     "text": [
      "자바 기초 프로그래밍 강좌를 완강했습니다.\n",
      "컴잘알에 오신 것을 환영합니다.\n"
     ]
    }
   ],
   "source": [
    "import requests\n",
    "from bs4 import BeautifulSoup\n",
    "\n",
    "# 특정 URL 에 접속하는 요청 (Request) 객체를 생성한다.\n",
    "request = requests.get(\"http://www.dowellcomputer.com/main.jsp\")\n",
    "\n",
    "html = request.text\n",
    "\n",
    "soup = BeautifulSoup(html, 'html.parser')\n",
    "\n",
    "links = soup.select('td > a')\n",
    "\n",
    "for link in links:\n",
    "    if link.has_attr('href'):\n",
    "        if link.get('href').find('notice') != -1:\n",
    "            print (link.text)"
   ]
  },
  {
   "cell_type": "code",
   "execution_count": 1,
   "metadata": {},
   "outputs": [
    {
     "name": "stdout",
     "output_type": "stream",
     "text": [
      "총, 75개의 주제를 찾았습니다.\n",
      "['Family', 'Restaurant', 'Books', 'Travel', 'Website', 'Accident', 'Childhood memory', 'Favorite rooms', 'Presents', 'Historical place', 'Newspaper/ Magazine', 'A memorable event', 'A favorite subject', 'A museum', 'A favorite movie', 'A foreign country', 'Parties', 'A teacher', 'A friend', 'A hotel', 'A letter', 'Hobbies', 'Music', 'Shopping', 'Holiday', 'Animals', 'A practical skill', 'Sport', 'A School', 'Festival', 'Food', 'Household appliance', 'A music band', 'Weather', 'Neighbor', 'Natural scenery', 'Outdoor activities', 'Law', 'Pollution', 'Traffic jam', 'TV program', 'Architect/ Building', 'Electronic Media', 'Job/ Career', 'Competition/ contest', 'A garden', 'Hometown', 'Clothing', 'Advertisement', 'A project', 'A wedding', 'A Coffee shop', 'Culture', 'Transport', 'Politician', 'Communication', 'Business', 'Computer', 'Exercise', 'Goal/ ambition', 'Art', 'Fashion', 'Jewelry', 'Cosmetic', 'Indoor Game', 'Phone conversation', 'Learning A Second language', 'A\\xa0Creative Person', 'A celebrity', 'A Health Problem', 'Technological advancements', 'A Landmark', 'Handcraft Items', 'Plastic Surgery', 'Success']\n"
     ]
    }
   ],
   "source": [
    "import requests\n",
    "from bs4 import BeautifulSoup\n",
    "import pprint\n",
    "\n",
    "# 한 건의 대화에 대한 정보를 담는 클래스입니다.\n",
    "class Conversation:\n",
    "    # 질문(Question), 응담(Answer), 두 변수로 구성한다.\n",
    "    def __init__(self, question, answer):\n",
    "        self.question = question\n",
    "        self.answer = answer\n",
    "        \n",
    "    def __str__(self):\n",
    "        return \"질문 : \" + self.question + '\\n답변 : ' + self.answer + '\\n'\n",
    "    \n",
    "# 모든 영어 대화 주제를 추출하는 함수\n",
    "def get_subjects():\n",
    "    subjects = []\n",
    "    \n",
    "    # 전체 주제 목록을 보여주는 페이지로의 요청 객체를 생성\n",
    "    req = requests.get('https://basicenglishspeaking.com/daily-english-conversation-topics/')  \n",
    "    html = req.text\n",
    "    soup = BeautifulSoup(html, 'html.parser')\n",
    "    \n",
    "    divs = soup.findAll('div', {'class': 'thrv_wrapper thrv-columns'})\n",
    "    for div in divs:\n",
    "        # 내부에 존재하는 <a> 태그들을 추출한다.\n",
    "        links = div.findAll('a')\n",
    "        # <a> 태그 내부의 텍스트를 리스트에 삽입한다.\n",
    "        for link in links:\n",
    "            subject = link.text\n",
    "            subjects.append(subject)\n",
    "            \n",
    "    return subjects\n",
    "\n",
    "subjects = get_subjects()\n",
    "print (f'총, {len(subjects)}개의 주제를 찾았습니다.')\n",
    "print (subjects)"
   ]
  },
  {
   "cell_type": "code",
   "execution_count": 2,
   "metadata": {},
   "outputs": [
    {
     "name": "stdout",
     "output_type": "stream",
     "text": [
      "( 1 / 75 ) Family\n",
      "How many people are there in your family?\n",
      "There are 5 people in my family: my father, mother, brother, sister, and me.\n",
      "Does your family live in a house or an apartment?\n",
      "We live in a house in the countryside.\n",
      "What does your father do?\n",
      "My father is a doctor. He works at the local hospital.\n",
      "How old is your mother?\n",
      "She is 40 years old, 1 year younger than my father.\n",
      "Do you have any siblings? What’s his/her name?\n",
      "Yes, I do. I have 1 elder brother, David, and 1 younger sister, Mary.\n",
      "Are you the oldest amongst your brothers and sisters?\n",
      "No, I’m not. I’m the second child in my family.\n",
      "What do your mother/father like?\n",
      "My father likes playing football and my mother likes cooking.\n",
      "Do your parents let you stay out late?\n",
      "Of course not. They always ask me to get home before 10 pm each night.\n",
      "Do you stay with your parents?\n",
      "Right now, no, but I used to.\n",
      "Does your family usually have dinner together?\n",
      "Yes, we do. My mom always prepares delicious meals for us.\n",
      "총 10 개의 대화를 찾았습니다.\n",
      "질문 : How many people are there in your family?\n",
      "답변 : There are 5 people in my family: my father, mother, brother, sister, and me.\n",
      "\n",
      "질문 : Does your family live in a house or an apartment?\n",
      "답변 : We live in a house in the countryside.\n",
      "\n",
      "질문 : What does your father do?\n",
      "답변 : My father is a doctor. He works at the local hospital.\n",
      "\n",
      "질문 : How old is your mother?\n",
      "답변 : She is 40 years old, 1 year younger than my father.\n",
      "\n",
      "질문 : Do you have any siblings? What’s his/her name?\n",
      "답변 : Yes, I do. I have 1 elder brother, David, and 1 younger sister, Mary.\n",
      "\n",
      "질문 : Are you the oldest amongst your brothers and sisters?\n",
      "답변 : No, I’m not. I’m the second child in my family.\n",
      "\n",
      "질문 : What do your mother/father like?\n",
      "답변 : My father likes playing football and my mother likes cooking.\n",
      "\n",
      "질문 : Do your parents let you stay out late?\n",
      "답변 : Of course not. They always ask me to get home before 10 pm each night.\n",
      "\n",
      "질문 : Do you stay with your parents?\n",
      "답변 : Right now, no, but I used to.\n",
      "\n",
      "질문 : Does your family usually have dinner together?\n",
      "답변 : Yes, we do. My mom always prepares delicious meals for us.\n",
      "\n"
     ]
    }
   ],
   "source": [
    "conversations = []\n",
    "i = 1\n",
    "\n",
    "# 모든 대화 주제 각각에 접근한다.\n",
    "for sub in subjects:\n",
    "    print (f\"( {i} / {len(subjects)} ) {sub}\")\n",
    "    # 대화 스크립트를 보여주는 페이지로의 요청(Request) 객체를 생성한다.\n",
    "    req = requests.get('https://basicenglishspeaking.com/' + sub)\n",
    "    html = req.text\n",
    "    soup = BeautifulSoup(html, 'html.parser')\n",
    "    \n",
    "    qnas = soup.findAll('div', {'class' : 'sc_player_container1'})\n",
    "    \n",
    "    ## 각각의 대화 내용을 모두 접근한다.\n",
    "    # next_sibling 이란? - 트리 항해하기(옆으로 가기)\n",
    "    # 형제들 (sibillings)\n",
    "    # .next_sibling 과 .previous_sibling\n",
    "    # div class.sc_player_container1 요 놈의 next_sibling은  div id#sm2-container 요 놈이다.\n",
    "    for qna in qnas:\n",
    "        if qnas.index(qna) % 2 == 0:\n",
    "            q = qna.next_sibling\n",
    "            print (q)\n",
    "        else:\n",
    "            a = qna.next_sibling\n",
    "            c = Conversation(q, a)\n",
    "            conversations.append(c)\n",
    "            print (a)\n",
    "    i = i + 1\n",
    "    \n",
    "    if i == 2:\n",
    "        break\n",
    "\n",
    "print (f\"총 {len(conversations)} 개의 대화를 찾았습니다.\")\n",
    "                       \n",
    "for c in conversations:\n",
    "    print (str(c))"
   ]
  },
  {
   "cell_type": "code",
   "execution_count": 15,
   "metadata": {},
   "outputs": [
    {
     "name": "stdout",
     "output_type": "stream",
     "text": [
      "<b>text1</b>\n"
     ]
    }
   ],
   "source": [
    "from bs4 import BeautifulSoup\n",
    "\n",
    "html_doc = \"\"\"\n",
    "<html><head><title>The Dormouse's story</title></head>\n",
    "\n",
    "<p class=\"title\"><b>The Dormouse's story</b></p>\n",
    "\n",
    "<p class=\"story\">Once upon a time there were three little sisters; and their names were\n",
    "<a href=\"http://example.com/elsie\" class=\"sister\" id=\"link1\">Elsie</a>,\n",
    "<a href=\"http://example.com/lacie\" class=\"sister\" id=\"link2\">Lacie</a> and\n",
    "<a href=\"http://example.com/tillie\" class=\"sister\" id=\"link3\">Tillie</a>;\n",
    "and they lived at the bottom of a well.</p>\n",
    "\n",
    "<p class=\"story\">...</p>\n",
    "\"\"\"\n",
    "soup = BeautifulSoup(html_doc, 'html.parser')\n",
    "\n",
    "sibling_soup = BeautifulSoup(\"<a><b>text1</b><c>text2</c></b></a>\")\n",
    "\n",
    "\n",
    "print(sibling_soup.c.previous_sibling)\n"
   ]
  },
  {
   "cell_type": "code",
   "execution_count": 95,
   "metadata": {},
   "outputs": [
    {
     "name": "stdout",
     "output_type": "stream",
     "text": [
      "2020학년도 1학기 강의 관련 총장 담화문2\n",
      "2020 대한민국 ROTC 모집 안내2\n",
      "[혁신] 2020학년도 1학기 전공튜터링 신청 안내 [2차혁신사업]1\n",
      "4월 SNS 이벤트 #2 DCU 학생들의 집콕클라쓰1\n",
      "2020년도 청년취업아카데미(창직과정) 창직프로젝트 팀 2차 모집 공고1\n",
      "2020 지역기업·청년 희망이음 지원사업 기업애로해결 프로젝트 지원 공고 안..1\n",
      "2020년 한국장학재단 다문화·탈북학생 멘토링 장학금 멘토 모집 안내1\n",
      "산학협력단 인재개발교육원 청년취업아카데미 직원 채용 공고1\n",
      "대구가톨릭대학교 임시직 직원 채용 공고1\n",
      "대구가톨릭대학교 산학협력단 안광학융합기술사업단 직원(연구직) 채용 공고1\n",
      "원격 수업 지원을 위한 도서 무료 택배 서비스 안내1\n",
      "4월 SNS 이벤트 #1 원격수업 맛집 추가유 당첨자 발표1\n",
      "교직원 및 졸업예정자 학생 대상 전산회계 자격 취득과정 참여자 모집안내1\n",
      "대학일자리센터 청년 진취성 아이디어 공모전1\n",
      "해외취업 온라인 화상상담 오픈1\n",
      "2020 DCU 글로벌인재양성지원단(GLOJUS) 4기 추가모집 안내1\n",
      "전자책 대출이벤트  '모여봐요 E-BOOK의 숲'1\n",
      "4월 SNS 이벤트 #1 원격수업 맛집 추가유1\n",
      "학생신상기록부 수정 안내(신입생, 재학생 등)1\n",
      "2020학년도 제 2차 생명윤리위원회 정기심의 일정 안내1\n",
      "2020학년도 전체 신입생 온라인 실태조사1\n",
      "2020 모의토익 및 모의토익스피킹 일정 안내1\n",
      "[혁신] 2020-1학기 DCU 독서노트 공모전 참가 안내 [2차혁신사업]1\n",
      "2020 DCU 글로벌인재양성지원단(GLOJUS) 4기 모집 안내1\n",
      "2020학년도 대학생활 Guide E-Book 안내1\n",
      "DCU대학일자리센터 SNS 홍보 서포터즈단 모집1\n",
      "온라인 진로·취업 상담 JOB 아이콘택트1\n",
      "2020년도 제2차 평생교육사 자격증 발급 신청 안내1\n",
      "2020학년도 교육혁신원 연구교수(비전임교원) 채용 공고1\n",
      "기숙사 입사 일정 취소 및 변경 안내1\n",
      "코로나19 관련 학사 일정 변경 및 시설 폐관 등 종합 안내1\n",
      "2020-1학기 등록금 납부 안내(변경)1\n"
     ]
    }
   ],
   "source": [
    "import requests\n",
    "from bs4 import BeautifulSoup as bs\n",
    "\n",
    "url = 'https://www.cu.ac.kr/plaza/notice/notice'\n",
    "\n",
    "# requests\n",
    "res = requests.get(url)\n",
    "\n",
    "# parsing\n",
    "soup = bs(res.content, 'html.parser')\n",
    "\n",
    "# data select\n",
    "links = soup.select('tbody a')\n",
    "\n",
    "for link in links:\n",
    "    if link.has_attr('href') & ~link.has_attr('class'):\n",
    "        if link.get('href').find('notice') != -1:\n",
    "            print(link.text.strip() + '1')\n",
    "    else:\n",
    "        if link.get('href').find('notice') != -1:\n",
    "            print(link.text.strip() + '2')"
   ]
  },
  {
   "cell_type": "code",
   "execution_count": 84,
   "metadata": {},
   "outputs": [
    {
     "ename": "KeyError",
     "evalue": "1",
     "output_type": "error",
     "traceback": [
      "\u001b[1;31m---------------------------------------------------------------------------\u001b[0m",
      "\u001b[1;31mKeyError\u001b[0m                                  Traceback (most recent call last)",
      "\u001b[1;32m<ipython-input-84-9c93a9701bcd>\u001b[0m in \u001b[0;36m<module>\u001b[1;34m\u001b[0m\n\u001b[0;32m     11\u001b[0m \u001b[1;33m\u001b[0m\u001b[0m\n\u001b[0;32m     12\u001b[0m \u001b[1;32mfor\u001b[0m \u001b[0mitem\u001b[0m \u001b[1;32min\u001b[0m \u001b[0mtbody\u001b[0m\u001b[1;33m:\u001b[0m\u001b[1;33m\u001b[0m\u001b[1;33m\u001b[0m\u001b[0m\n\u001b[1;32m---> 13\u001b[1;33m     \u001b[0mprint\u001b[0m \u001b[1;33m(\u001b[0m\u001b[0mitem\u001b[0m\u001b[1;33m.\u001b[0m\u001b[0mfind\u001b[0m\u001b[1;33m(\u001b[0m\u001b[1;34m'td'\u001b[0m\u001b[1;33m)\u001b[0m\u001b[1;33m[\u001b[0m\u001b[1;36m1\u001b[0m\u001b[1;33m]\u001b[0m\u001b[1;33m)\u001b[0m\u001b[1;33m\u001b[0m\u001b[1;33m\u001b[0m\u001b[0m\n\u001b[0m",
      "\u001b[1;32m~\\Anaconda3\\envs\\py36\\lib\\site-packages\\bs4\\element.py\u001b[0m in \u001b[0;36m__getitem__\u001b[1;34m(self, key)\u001b[0m\n\u001b[0;32m   1009\u001b[0m         \"\"\"tag[key] returns the value of the 'key' attribute for the tag,\n\u001b[0;32m   1010\u001b[0m         and throws an exception if it's not there.\"\"\"\n\u001b[1;32m-> 1011\u001b[1;33m         \u001b[1;32mreturn\u001b[0m \u001b[0mself\u001b[0m\u001b[1;33m.\u001b[0m\u001b[0mattrs\u001b[0m\u001b[1;33m[\u001b[0m\u001b[0mkey\u001b[0m\u001b[1;33m]\u001b[0m\u001b[1;33m\u001b[0m\u001b[1;33m\u001b[0m\u001b[0m\n\u001b[0m\u001b[0;32m   1012\u001b[0m \u001b[1;33m\u001b[0m\u001b[0m\n\u001b[0;32m   1013\u001b[0m     \u001b[1;32mdef\u001b[0m \u001b[0m__iter__\u001b[0m\u001b[1;33m(\u001b[0m\u001b[0mself\u001b[0m\u001b[1;33m)\u001b[0m\u001b[1;33m:\u001b[0m\u001b[1;33m\u001b[0m\u001b[1;33m\u001b[0m\u001b[0m\n",
      "\u001b[1;31mKeyError\u001b[0m: 1"
     ]
    }
   ],
   "source": [
    "import requests\n",
    "from bs4 import BeautifulSoup as bs\n",
    "\n",
    "url = 'https://www.cu.ac.kr/plaza/notice/notice'\n",
    "\n",
    "res = requests.get(url)\n",
    "\n",
    "soup = bs(res.content, 'html.parser')\n",
    "\n",
    "tbody = soup.find('tbody').find_all('tr')\n",
    "\n",
    "for item in tbody:\n",
    "    print (item.find('td')[1])"
   ]
  },
  {
   "cell_type": "code",
   "execution_count": 111,
   "metadata": {},
   "outputs": [
    {
     "name": "stdout",
     "output_type": "stream",
     "text": [
      "[혁신] 2020학년도 1학기 전공튜터링 신청 안내 [2차혁신사업] https://www.cu.ac.kr//plaza/notice/notice?mode=view&mv_data=aWR4PTE1MTk0MCZzdGFydFBhZ2U9MSZsaXN0Tm89MSZ0YWJsZT1jc19iYnNfZGF0YSZjb2RlPW5vdGljZSZzZWFyY2hfaXRlbT0mc2VhcmNoX29yZGVyPSZvcmRlcl9saXN0PSZsaXN0X3NjYWxlPQ==||\n"
     ]
    }
   ],
   "source": [
    "import requests\n",
    "from bs4 import BeautifulSoup as bs\n",
    "\n",
    "\n",
    "\n",
    "url = 'https://www.cu.ac.kr/plaza/notice/notice'\n",
    "\n",
    "notice_res = requests.get(url)\n",
    "notice_res.encoding = 'utf-8'\n",
    "\n",
    "notice_soup = bs(notice_res.content, 'html.parser')\n",
    "\n",
    "# links = notice_soup.find('tbody').find_all('a', attrs={'class': ''})\n",
    "links = notice_soup.find('tbody').find_all('a', attrs={'class': ''})\n",
    "\n",
    "test = []\n",
    "test_link = []\n",
    "\n",
    "for link in links:\n",
    "    if link.has_attr('href') & ~link.has_attr('class'):\n",
    "        if link.get('href').find('notice') != -1:\n",
    "            link_t = link.text.strip()\n",
    "            link_url = 'https://www.cu.ac.kr/' + link.get('href')\n",
    "            test.append(link_t)\n",
    "            test_link.append(link_url)\n",
    "            break;\n",
    "            \n",
    "print(test[0], test_link[0])"
   ]
  },
  {
   "cell_type": "code",
   "execution_count": null,
   "metadata": {},
   "outputs": [],
   "source": []
  },
  {
   "cell_type": "code",
   "execution_count": null,
   "metadata": {},
   "outputs": [],
   "source": []
  },
  {
   "cell_type": "code",
   "execution_count": null,
   "metadata": {},
   "outputs": [],
   "source": []
  },
  {
   "cell_type": "code",
   "execution_count": null,
   "metadata": {},
   "outputs": [],
   "source": []
  }
 ],
 "metadata": {
  "kernelspec": {
   "display_name": "Python [conda env:py36] *",
   "language": "python",
   "name": "conda-env-py36-py"
  },
  "language_info": {
   "codemirror_mode": {
    "name": "ipython",
    "version": 3
   },
   "file_extension": ".py",
   "mimetype": "text/x-python",
   "name": "python",
   "nbconvert_exporter": "python",
   "pygments_lexer": "ipython3",
   "version": "3.6.10"
  }
 },
 "nbformat": 4,
 "nbformat_minor": 2
}
