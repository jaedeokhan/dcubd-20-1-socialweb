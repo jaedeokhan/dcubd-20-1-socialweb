{
 "cells": [
  {
   "cell_type": "code",
   "execution_count": 58,
   "metadata": {},
   "outputs": [
    {
     "ename": "SyntaxError",
     "evalue": "invalid syntax (<ipython-input-58-9717f1cb4c28>, line 27)",
     "output_type": "error",
     "traceback": [
      "\u001b[1;36m  File \u001b[1;32m\"<ipython-input-58-9717f1cb4c28>\"\u001b[1;36m, line \u001b[1;32m27\u001b[0m\n\u001b[1;33m    content.append([str((data.text, end=' '))])\u001b[0m\n\u001b[1;37m                                       ^\u001b[0m\n\u001b[1;31mSyntaxError\u001b[0m\u001b[1;31m:\u001b[0m invalid syntax\n"
     ]
    }
   ],
   "source": [
    "from bs4 import BeautifulSoup\n",
    "import requests\n",
    "\n",
    "url = 'https://news.daum.net/economic'\n",
    "res = requests.get(url)\n",
    "\n",
    "# parsing -> 구문 분석\n",
    "soup = BeautifulSoup(res.content, 'html.parser')\n",
    "\n",
    "articles = soup.select('strong.tit_thumb a')\n",
    "content = []\n",
    "titles = []\n",
    "dict_test = {}\n",
    "\n",
    "for article in articles:\n",
    "    article_href = article.get('href')\n",
    "#     print (article_href)\n",
    "#     url = 'https://news.v.daum.net/v/'\n",
    "    res = requests.get(article_href)\n",
    "    soup = BeautifulSoup(res.content, 'html.parser')\n",
    "    title = soup.select_one('h3.tit_view')\n",
    "    datas = soup.select('section p')\n",
    "    print ()\n",
    "    titles = title.text\n",
    "    print ()\n",
    "    for data in datas:\n",
    "        test = print\n",
    "        content.append([(data.text)])\n",
    "#         dict_test = {'title' : titles, 'content': content}\n"
   ]
  },
  {
   "cell_type": "code",
   "execution_count": 77,
   "metadata": {},
   "outputs": [
    {
     "name": "stdout",
     "output_type": "stream",
     "text": [
      "[]\n",
      "[<span id=\"cartCount\">Cart (0)</span>, <span id=\"mc_ieee-mini-cart-include\" style=\"display:none\"></span>, <span class=\"Overlay-label\">Personal Sign In</span>, <span class=\"checkmark\"></span>, <span class=\"hide\" id=\"gdpr-hidden-personal-signin-SpinnerImage\">\n",
      "<img src=\"/assets/img/move-spinner.gif?cv=20200402_000001\"/>\n",
      "</span>, <span class=\"logo-ieee u-pullRight\"></span>, <span class=\"Toolbar-button-browse-text\">Browse<i class=\"Toolbar-dropdown-icon\"></i></span>]\n"
     ]
    }
   ],
   "source": [
    "from bs4 import BeautifulSoup\n",
    "import requests\n",
    "\n",
    "url = 'https://ieeexplore.ieee.org/search/searchresult.jsp?newsearch=true&queryText=cloud'\n",
    "res = requests.get(url)\n",
    "soup = BeautifulSoup(res.content, 'html.parser')\n",
    "# print (soup)\n",
    "a = soup.select('h2.result-item-title a')\n"
   ]
  },
  {
   "cell_type": "code",
   "execution_count": 63,
   "metadata": {},
   "outputs": [],
   "source": [
    "test = \n"
   ]
  },
  {
   "cell_type": "code",
   "execution_count": null,
   "metadata": {},
   "outputs": [],
   "source": []
  },
  {
   "cell_type": "code",
   "execution_count": null,
   "metadata": {},
   "outputs": [],
   "source": []
  },
  {
   "cell_type": "code",
   "execution_count": null,
   "metadata": {},
   "outputs": [],
   "source": []
  },
  {
   "cell_type": "code",
   "execution_count": null,
   "metadata": {},
   "outputs": [],
   "source": []
  },
  {
   "cell_type": "code",
   "execution_count": null,
   "metadata": {},
   "outputs": [],
   "source": []
  },
  {
   "cell_type": "code",
   "execution_count": null,
   "metadata": {},
   "outputs": [],
   "source": []
  },
  {
   "cell_type": "code",
   "execution_count": null,
   "metadata": {},
   "outputs": [],
   "source": []
  },
  {
   "cell_type": "code",
   "execution_count": null,
   "metadata": {},
   "outputs": [],
   "source": []
  },
  {
   "cell_type": "code",
   "execution_count": null,
   "metadata": {},
   "outputs": [],
   "source": []
  },
  {
   "cell_type": "code",
   "execution_count": null,
   "metadata": {},
   "outputs": [],
   "source": []
  },
  {
   "cell_type": "code",
   "execution_count": null,
   "metadata": {},
   "outputs": [],
   "source": []
  },
  {
   "cell_type": "code",
   "execution_count": null,
   "metadata": {},
   "outputs": [],
   "source": []
  },
  {
   "cell_type": "code",
   "execution_count": null,
   "metadata": {},
   "outputs": [],
   "source": []
  },
  {
   "cell_type": "code",
   "execution_count": null,
   "metadata": {},
   "outputs": [],
   "source": []
  },
  {
   "cell_type": "code",
   "execution_count": null,
   "metadata": {},
   "outputs": [],
   "source": []
  },
  {
   "cell_type": "code",
   "execution_count": null,
   "metadata": {},
   "outputs": [],
   "source": []
  }
 ],
 "metadata": {
  "kernelspec": {
   "display_name": "Python [conda env:py36] *",
   "language": "python",
   "name": "conda-env-py36-py"
  },
  "language_info": {
   "codemirror_mode": {
    "name": "ipython",
    "version": 3
   },
   "file_extension": ".py",
   "mimetype": "text/x-python",
   "name": "python",
   "nbconvert_exporter": "python",
   "pygments_lexer": "ipython3",
   "version": "3.6.10"
  }
 },
 "nbformat": 4,
 "nbformat_minor": 2
}
