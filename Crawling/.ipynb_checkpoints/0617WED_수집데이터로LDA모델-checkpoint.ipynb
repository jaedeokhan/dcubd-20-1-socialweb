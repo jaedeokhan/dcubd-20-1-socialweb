{
 "cells": [
  {
   "cell_type": "markdown",
   "metadata": {},
   "source": [
    "1. 데이터베이스 수집 데이터 가져오기\n",
    "2. 문서 셋 만들기(학습 데이터 7/10)\n",
    "3. 가공(명사, 형태소)\n",
    "4. LDA 모델\n",
    "5. 테스트(테스트데이터 3/10)"
   ]
  },
  {
   "cell_type": "code",
   "execution_count": 1,
   "metadata": {},
   "outputs": [],
   "source": [
    "# K-대푯값 군집 분석\n",
    "import pandas as pd\n",
    "from konlpy.tag import Hannanum\n",
    "from sklearn.feature_extraction.text import CountVectorizer\n",
    "from pyclustering.cluster import kmedoids\n",
    "import numpy as np"
   ]
  },
  {
   "cell_type": "markdown",
   "metadata": {},
   "source": [
    "### 1.  csv 데이터 불러오기, train과 test 데이터 나누기"
   ]
  },
  {
   "cell_type": "code",
   "execution_count": 2,
   "metadata": {},
   "outputs": [],
   "source": [
    "hannanum = Hannanum()\n",
    "news_data = pd.read_csv(\"C:/Users/330-15/Desktop/20_1_computer/SocialWebMining/Crawling/corona_mask_dust.csv\"\n",
    "                        , engine = 'python', encoding='utf-8')"
   ]
  },
  {
   "cell_type": "code",
   "execution_count": 3,
   "metadata": {},
   "outputs": [],
   "source": [
    "train = news_data[:15]\n",
    "test = news_data[15:] "
   ]
  },
  {
   "cell_type": "markdown",
   "metadata": {},
   "source": [
    "### 2. train_docs 명사 추출"
   ]
  },
  {
   "cell_type": "code",
   "execution_count": 11,
   "metadata": {},
   "outputs": [
    {
     "name": "stdout",
     "output_type": "stream",
     "text": [
      "['[아이뉴스24', '한수연', '기', '현대차증권', '29', '유한양행', '올해', '1분기', '코로나19', '여파', '실적', '역성장했지만,', '하반기', '레이저티닙', '얀센', '이중항체', '병용', '파이프라인', '단기', '모멘텀', '개선', '목표주가', '기존', '5만5천원', '6만원', '상향', '투자의견', '매수', '유', '유한양행', '올해', '1분기', '매출액', '전년', '동기', '대비', '9', '감소', '3천133억원', '영업이익', '82', '급감한', '11억원', '기록', '박병국', '현대차증권', '애널리스트', '\"코로나19', '1분기', '연결기준', '매출액', '전년', '동기', '9', '영업이익', '82', '급감했다\"면서', '하반기', '개시', '가능성', '레이저티닙', '얀센', '이중항체', '병용', '디자인', '주목', '박', '애널리스트는', '13일', '공개', '초록', '데이터', '레이저티닙', '3세대', '가능성', '번', '확인했다\"며', '공개', '데이터', 'T790M', '변이', '환자', '2차', '치료제', '목적', '투약', '레이저티닙', '240mg', '변', '비소세포폐암', '시장', '주도하', '타그리소(80mg)', '2상', '유사한', '데이터', '단독', '가능성', '설명', '이', '이달', '포스터', '공개', '가능성', '160mg,', '240mg', '용량', '데이터', '주목', '1차', '치료제', '목적', '글로벌', '3상', '단독', '요법', '160mg,', '240mg', '임상', '진행', '있다\"며', '임상', '독성시험', '완료', '25724', '임상개시', '시점', '하반기', '가능성', '그', '1000', '규모', '마일스톤', '수령', '수', '한수연기', 'papyrus@inews24', 'com▶네이버', '채널', \"'아이뉴스24'\", '구독', '▶재밌', '아이뉴스TV', '영상보', '▶아이뉴스24', '바로가기[ⓒ', '아이뉴스24', '무단전재', '재배포', '금지']\n"
     ]
    },
    {
     "data": {
      "text/plain": [
       "15"
      ]
     },
     "execution_count": 11,
     "metadata": {},
     "output_type": "execute_result"
    }
   ],
   "source": [
    "train_docs = []\n",
    "for i in train['내용']:\n",
    "    train_docs.append(hannanum.nouns(i))\n",
    "               \n",
    "print(train_docs[0])\n",
    "len(train_docs)"
   ]
  },
  {
   "cell_type": "markdown",
   "metadata": {},
   "source": [
    "### 2. test_docs 명사 추출"
   ]
  },
  {
   "cell_type": "code",
   "execution_count": 12,
   "metadata": {},
   "outputs": [
    {
     "name": "stdout",
     "output_type": "stream",
     "text": [
      "['유화', '유가반등', '마진', '제한적2차', '전지·태양광', '집중', '전략', '필요삼성·애플,', '가을', '신제품', '출시휴대폰', '부품株', '저가매수', '만', '코로나19', '경제활동', '봉쇄지역', '정상화', '글로벌', '증시', '상승세', '미·중', '등', '고개', '증시', '부담', '6월', '증시', '파생상품', '시장', '수급', '선물옵션', '만기일', '추', '상승', '후', '6월', '전강후약', '예상', '종목별', '증시', '주도하', '네이버,', '카카오', '등', '언택트', '관련주', '삼성SDI,', '화학', '등', '2차전지', '관련주', '삼성바이오로직스,', '셀트리온', '3형제', '등', '바이오시밀러', '등', '기존', '주도주', '가격', '부담', '자동차', '정유화학', '금융', '등', '낙폭과대', '경기민감', '업종', '대표주로', '순환매', '유입', '주목', '만', '◆', '은행코로나19', '사태', '경기', '침체', '여파', '2분기부터', '본격적', '반영', '전망', '투자지표상', '10년래', '최저', '주가순자산비율(PBR),', '주가이익비율(PER)', '기록', '점', '악재', '요인', '반영', '것', '◆', '자동차마지막', '글로벌', '셧', '공장', '기아차', '멕시코', '공장', '26일', '생산', '재개', '현대·기아차', '해외', '공장', '정상화', '1분기', '이', '2분기', '어닝쇼크', '불가피', '상황', '완성차', '업체들', '주가', '이', '선반영하', '만큼', '하반기', '기저효과', '감안', '주', '턴어라운드', '수', '◆', '면세점2020년', '4월', '면세점', '실적', '코로나19', '영향', '부진', '4월', '면세점', '매출액', '전년', '동월', '대비', '54', '역성장했고,', '코로나19', '해결', '한', '상황', '지속', '수', '4월', '외국', '1인당', '매출액', '역대', '최고', '수준', '경신', '보따리상', '매출', '수준', '가늠', '수', '중국', '내', '국산', '화장품', '관련', '수요', '점', '의미', '만큼', '하반기', '기저효과', '면세점', '3사', '관심', '필요', '◆', '엔터·미디어한·중·', '상호간', '입국', '금지', '불특정', '다수', '수', '극장·여행·카지노·콘서트', '등', '성장률', '-100', '-90', '수준', '주가', '불확실성', '반영해', '경험적', '저점', '수준', '변수', '회복', '시간가치', '제외', '것', '가격', '◆', '반도체미·중', '등', '재고조', '미국', '화웨', '중국', '반도체', '직접적', '겨냥', '삼성전자', 'SK하이닉스', '수급개선', '6월', '◆', '휴대폰미국', '화웨', '규제', '강화', '삼성·애플·오포·비보', '등', '휴대폰', '부문', '반사이익', '예상', '스마트폰', '부품사들', '삼성', '애플', '신제품', '출시', '예정', '성수', '만큼', '2분기', '어닝쇼크', '3분기', '계절적', '성수', '염두한', '저가매수', '기회', '만', '◆', '디스플레이중국', '생산', '차질', '걱정', '것', '반면', '수요', '손실', '예상', '패널', '가격', '하락반전', '과거', '10년', '역사', '디스플레이', '산업', '투', '대비', '효율성', '반도체', '대비', '◆', '정유화학코로나19', '정유업종', '쇼크', '해소', '중', '리스크', '완화', '여건', '정유업종', '화학', '대비', '이익창출', '여력', '점', '하반기', '턴어라운드', '예상', '화학업종', '유', '반등', '마진', '개', '효과', '적', '수급', '불균형', '기조', '여전', '상황', '2차전지', '태양광주', '집중', '전략', '필요', '※', '산업', '기업별', '실시간', '탐방', '속보', '상세', '자료', '매일경제TV', '주식', '앱', '주머니', '무료', '확인', '가능', '플레이스토어', '검색창', '주머니', '검색', '[정영석', '매일경제TV', '기자]▶네이버', '메인', '매일경제', '받아보세요▶매부리TV', '구독', '에어팟프', '득템', '▶뉴스레터', \"'매콤달콤'\", '구독[ⓒ', '매일경제', '&', '무단전재', '재배포', '금지']\n"
     ]
    },
    {
     "data": {
      "text/plain": [
       "4"
      ]
     },
     "execution_count": 12,
     "metadata": {},
     "output_type": "execute_result"
    }
   ],
   "source": [
    "test_docs = []\n",
    "for i in test['내용']:\n",
    "    test_docs.append(hannanum.nouns(i))\n",
    "               \n",
    "print(test_docs[0])\n",
    "len(test_docs)"
   ]
  },
  {
   "cell_type": "code",
   "execution_count": 13,
   "metadata": {},
   "outputs": [],
   "source": [
    "from nltk.corpus import stopwords\n",
    "from nltk.stem.porter import PorterStemmer\n",
    "from gensim import corpora, models\n",
    "import gensim\n",
    "from nltk.tokenize import RegexpTokenizer"
   ]
  },
  {
   "cell_type": "markdown",
   "metadata": {},
   "source": [
    "### 3. train_dictionary "
   ]
  },
  {
   "cell_type": "code",
   "execution_count": 14,
   "metadata": {},
   "outputs": [
    {
     "name": "stdout",
     "output_type": "stream",
     "text": [
      "{'\"코로나19': 0, \"'아이뉴스24'\": 1, '1000': 2, '11억원': 3, '13일': 4, '160mg,': 5, '1분기': 6, '1차': 7, '240mg': 8, '25724': 9, '29': 10, '2상': 11, '2차': 12, '3상': 13, '3세대': 14}\n"
     ]
    }
   ],
   "source": [
    "train_dictionary = corpora.Dictionary(train_docs)\n",
    "print(dict(list(train_dictionary.token2id.items())[0:15]))"
   ]
  },
  {
   "cell_type": "markdown",
   "metadata": {},
   "source": [
    "### 3. test_dicitonary"
   ]
  },
  {
   "cell_type": "code",
   "execution_count": 15,
   "metadata": {},
   "outputs": [
    {
     "name": "stdout",
     "output_type": "stream",
     "text": [
      "{'&': 0, \"'매콤달콤'\": 1, '-100': 2, '-90': 3, '10년': 4, '10년래': 5, '1분기': 6, '1인당': 7, '26일': 8, '2분기': 9, '2분기부터': 10, '2차전지': 11, '3분기': 12, '3사': 13, '3형제': 14}\n"
     ]
    }
   ],
   "source": [
    "test_dictionary = corpora.Dictionary(test_docs)\n",
    "print(dict(list(test_dictionary.token2id.items())[0:15]))"
   ]
  },
  {
   "cell_type": "markdown",
   "metadata": {},
   "source": [
    "### 4. train_corpus "
   ]
  },
  {
   "cell_type": "code",
   "execution_count": 16,
   "metadata": {},
   "outputs": [
    {
     "name": "stdout",
     "output_type": "stream",
     "text": [
      "[[(0, 1), (1, 1), (2, 1), (3, 1), (4, 1), (5, 2), (6, 3), (7, 1), (8, 3), (9, 1), (10, 1), (11, 1), (12, 1), (13, 1), (14, 1), (15, 1), (16, 1), (17, 1), (18, 2), (19, 2), (20, 1), (21, 1), (22, 1), (23, 1), (24, 1), (25, 1), (26, 5), (27, 1), (28, 1), (29, 1), (30, 3), (31, 1), (32, 1), (33, 1), (34, 1), (35, 1), (36, 1), (37, 1), (38, 1), (39, 1), (40, 1), (41, 1), (42, 2), (43, 1), (44, 4), (45, 1), (46, 2), (47, 1), (48, 4), (49, 1), (50, 1), (51, 2), (52, 1), (53, 2), (54, 1), (55, 1), (56, 1), (57, 1), (58, 1), (59, 1), (60, 1), (61, 1), (62, 2), (63, 1), (64, 1), (65, 1), (66, 1), (67, 1), (68, 1), (69, 1), (70, 1), (71, 1), (72, 1), (73, 1), (74, 1), (75, 2), (76, 1), (77, 1), (78, 1), (79, 1), (80, 2), (81, 2), (82, 1), (83, 1), (84, 1), (85, 1), (86, 1), (87, 2), (88, 1), (89, 1), (90, 2), (91, 2), (92, 1), (93, 1), (94, 1), (95, 2), (96, 1), (97, 2), (98, 1), (99, 1), (100, 1), (101, 2), (102, 1), (103, 1), (104, 1), (105, 1), (106, 1), (107, 1), (108, 3), (109, 1), (110, 1), (111, 2), (112, 1), (113, 1)], [(31, 1), (35, 1), (81, 1), (89, 1), (94, 1), (98, 2), (102, 2), (114, 1), (115, 1), (116, 1), (117, 1), (118, 1), (119, 1), (120, 2), (121, 1), (122, 1), (123, 1), (124, 1), (125, 1), (126, 1), (127, 1), (128, 1), (129, 1), (130, 1), (131, 1), (132, 1), (133, 1), (134, 1), (135, 1), (136, 1), (137, 1), (138, 1), (139, 1), (140, 1), (141, 3), (142, 2), (143, 1), (144, 1), (145, 1), (146, 1), (147, 1), (148, 2), (149, 1), (150, 1), (151, 1), (152, 1), (153, 1), (154, 1), (155, 1), (156, 1), (157, 1), (158, 1), (159, 1), (160, 1), (161, 1), (162, 2), (163, 1), (164, 1), (165, 1), (166, 1), (167, 1), (168, 1), (169, 1), (170, 1), (171, 1), (172, 1), (173, 1), (174, 1), (175, 1), (176, 1), (177, 1), (178, 1), (179, 1), (180, 1), (181, 1), (182, 1), (183, 1), (184, 1), (185, 1), (186, 1), (187, 1), (188, 1), (189, 1), (190, 1), (191, 1), (192, 1), (193, 1), (194, 1), (195, 1), (196, 1), (197, 1), (198, 1), (199, 1), (200, 1), (201, 3)], [(6, 1), (31, 1), (33, 1), (35, 1), (39, 3), (43, 3), (46, 2), (51, 2), (65, 1), (68, 1), (70, 2), (84, 2), (87, 5), (94, 1), (95, 2), (99, 1), (102, 1), (128, 1), (134, 1), (151, 2), (153, 1), (155, 1), (161, 1), (169, 1), (182, 1), (192, 1), (202, 1), (203, 1), (204, 4), (205, 3), (206, 1), (207, 1), (208, 1), (209, 1), (210, 1), (211, 1), (212, 1), (213, 1), (214, 1), (215, 1), (216, 1), (217, 1), (218, 1), (219, 1), (220, 1), (221, 1), (222, 1), (223, 1), (224, 2), (225, 1), (226, 1), (227, 1), (228, 1), (229, 1), (230, 1), (231, 1), (232, 1), (233, 1), (234, 1), (235, 1), (236, 3), (237, 1), (238, 1), (239, 1), (240, 1), (241, 1), (242, 1), (243, 1), (244, 1), (245, 1), (246, 1), (247, 1), (248, 1), (249, 1), (250, 1), (251, 1), (252, 1), (253, 1), (254, 1), (255, 1), (256, 1), (257, 1), (258, 6), (259, 2), (260, 1), (261, 4), (262, 1), (263, 1), (264, 1), (265, 1), (266, 1), (267, 1), (268, 1), (269, 1), (270, 1), (271, 1), (272, 1), (273, 1), (274, 1), (275, 1), (276, 1), (277, 2), (278, 1), (279, 1), (280, 1), (281, 1), (282, 1), (283, 1), (284, 1), (285, 1), (286, 1), (287, 1), (288, 1), (289, 2), (290, 1), (291, 1), (292, 1), (293, 3), (294, 2), (295, 1), (296, 2), (297, 1), (298, 1), (299, 1), (300, 1), (301, 1), (302, 1), (303, 1), (304, 1), (305, 1), (306, 1), (307, 1), (308, 1), (309, 1), (310, 1), (311, 1), (312, 3), (313, 1), (314, 1), (315, 1), (316, 1), (317, 1), (318, 1), (319, 1), (320, 1), (321, 1), (322, 2), (323, 1), (324, 1), (325, 1), (326, 2), (327, 1), (328, 1), (329, 1), (330, 1), (331, 2), (332, 1), (333, 1), (334, 1), (335, 1), (336, 1), (337, 1), (338, 1), (339, 3), (340, 1), (341, 1), (342, 1), (343, 1), (344, 1), (345, 2), (346, 1), (347, 1), (348, 1), (349, 4), (350, 1)]]\n"
     ]
    }
   ],
   "source": [
    "train_corpus = [train_dictionary.doc2bow(train_doc) for train_doc in train_docs]\n",
    "print(train_corpus[:3])"
   ]
  },
  {
   "cell_type": "markdown",
   "metadata": {},
   "source": [
    "### 4. test_corpus "
   ]
  },
  {
   "cell_type": "code",
   "execution_count": 24,
   "metadata": {},
   "outputs": [
    {
     "name": "stdout",
     "output_type": "stream",
     "text": [
      "[[(0, 1), (1, 1), (2, 1), (3, 1), (4, 1), (5, 1), (6, 1), (7, 1), (8, 1), (9, 2), (10, 1), (11, 2), (12, 1), (13, 1), (14, 1), (15, 3), (16, 1), (17, 3), (18, 1), (19, 1), (20, 1), (21, 1), (22, 8), (23, 3), (24, 1), (25, 1), (26, 1), (27, 1), (28, 1), (29, 1), (30, 1), (31, 1), (32, 1), (33, 3), (34, 1), (35, 1), (36, 1), (37, 1), (38, 1), (39, 1), (40, 1), (41, 1), (42, 3), (43, 1), (44, 1), (45, 2), (46, 1), (47, 1), (48, 1), (49, 1), (50, 1), (51, 1), (52, 2), (53, 1), (54, 2), (55, 1), (56, 1), (57, 1), (58, 1), (59, 2), (60, 1), (61, 1), (62, 1), (63, 1), (64, 1), (65, 1), (66, 1), (67, 4), (68, 1), (69, 1), (70, 1), (71, 9), (72, 1), (73, 1), (74, 1), (75, 2), (76, 3), (77, 1), (78, 3), (79, 2), (80, 2), (81, 1), (82, 2), (83, 1), (84, 1), (85, 3), (86, 1), (87, 1), (88, 1), (89, 1), (90, 1), (91, 1), (92, 2), (93, 1), (94, 1), (95, 1), (96, 1), (97, 2), (98, 1), (99, 1), (100, 1), (101, 1), (102, 1), (103, 1), (104, 2), (105, 1), (106, 1), (107, 1), (108, 1), (109, 1), (110, 1), (111, 1), (112, 1), (113, 1), (114, 2), (115, 1), (116, 1), (117, 1), (118, 1), (119, 1), (120, 1), (121, 1), (122, 1), (123, 1), (124, 3), (125, 2), (126, 1), (127, 1), (128, 2), (129, 1), (130, 1), (131, 1), (132, 1), (133, 1), (134, 1), (135, 4), (136, 2), (137, 1), (138, 2), (139, 4), (140, 1), (141, 1), (142, 1), (143, 1), (144, 2), (145, 1), (146, 1), (147, 1), (148, 1), (149, 1), (150, 2), (151, 1), (152, 1), (153, 1), (154, 1), (155, 1), (156, 1), (157, 1), (158, 1), (159, 1), (160, 1), (161, 1), (162, 1), (163, 1), (164, 1), (165, 4), (166, 1), (167, 1), (168, 1), (169, 1), (170, 1), (171, 1), (172, 1), (173, 1), (174, 1), (175, 1), (176, 1), (177, 2), (178, 1), (179, 1), (180, 1), (181, 1), (182, 1), (183, 1), (184, 1), (185, 1), (186, 2), (187, 1), (188, 1), (189, 1), (190, 1), (191, 2), (192, 1), (193, 1), (194, 3), (195, 2), (196, 2), (197, 1), (198, 1), (199, 1), (200, 1), (201, 1), (202, 1), (203, 2), (204, 1), (205, 1), (206, 1), (207, 1), (208, 2), (209, 1), (210, 1), (211, 1), (212, 2), (213, 4), (214, 1), (215, 1), (216, 2), (217, 1), (218, 1), (219, 1), (220, 1), (221, 1), (222, 1), (223, 1), (224, 1), (225, 3), (226, 1), (227, 1), (228, 2), (229, 1), (230, 1), (231, 1), (232, 1), (233, 1), (234, 2), (235, 1), (236, 1), (237, 3), (238, 1), (239, 1), (240, 1), (241, 1), (242, 1), (243, 2), (244, 1), (245, 2), (246, 1), (247, 1), (248, 1), (249, 1), (250, 1), (251, 1), (252, 1), (253, 1)], [(0, 1), (1, 1), (21, 1), (22, 2), (25, 1), (47, 1), (48, 1), (52, 1), (54, 1), (58, 1), (62, 1), (64, 3), (70, 1), (71, 4), (79, 2), (83, 1), (87, 1), (99, 1), (115, 2), (119, 11), (135, 11), (154, 1), (177, 1), (185, 1), (211, 3), (229, 1), (251, 1), (254, 1), (255, 1), (256, 1), (257, 2), (258, 1), (259, 3), (260, 1), (261, 1), (262, 1), (263, 4), (264, 2), (265, 1), (266, 1), (267, 1), (268, 1), (269, 1), (270, 2), (271, 1), (272, 1), (273, 1), (274, 1), (275, 1), (276, 1), (277, 1), (278, 1), (279, 1), (280, 1), (281, 1), (282, 6), (283, 1), (284, 1), (285, 1), (286, 1), (287, 1), (288, 1), (289, 1), (290, 1), (291, 1), (292, 11), (293, 2), (294, 1), (295, 1), (296, 1), (297, 1), (298, 1), (299, 1), (300, 2), (301, 2), (302, 1), (303, 1), (304, 4), (305, 3), (306, 1), (307, 15), (308, 2), (309, 1), (310, 1), (311, 1), (312, 1), (313, 3), (314, 1), (315, 1), (316, 1), (317, 1), (318, 1), (319, 1), (320, 2), (321, 2), (322, 1), (323, 1), (324, 1), (325, 1), (326, 1), (327, 1), (328, 2), (329, 1), (330, 2), (331, 1), (332, 2), (333, 1), (334, 1), (335, 1), (336, 1), (337, 1), (338, 1), (339, 1), (340, 1), (341, 1), (342, 1), (343, 1), (344, 2), (345, 1), (346, 1), (347, 1), (348, 1), (349, 1), (350, 1), (351, 1), (352, 19), (353, 1), (354, 1), (355, 1), (356, 1), (357, 2), (358, 7), (359, 4), (360, 1), (361, 1), (362, 1), (363, 1), (364, 1), (365, 3), (366, 1), (367, 6), (368, 1), (369, 1), (370, 1), (371, 4), (372, 1), (373, 1), (374, 1), (375, 1), (376, 2), (377, 1), (378, 1), (379, 1), (380, 1), (381, 1), (382, 1), (383, 9), (384, 1), (385, 1), (386, 1), (387, 1), (388, 2), (389, 1), (390, 1), (391, 1), (392, 1), (393, 1), (394, 1), (395, 1), (396, 1), (397, 2), (398, 1), (399, 2), (400, 1), (401, 1), (402, 7), (403, 1), (404, 1), (405, 1), (406, 1), (407, 1), (408, 3), (409, 2), (410, 3), (411, 1), (412, 1), (413, 1), (414, 1), (415, 1), (416, 1), (417, 1), (418, 2), (419, 1), (420, 8), (421, 1), (422, 1), (423, 2), (424, 1), (425, 1), (426, 1), (427, 1), (428, 1), (429, 4), (430, 2), (431, 1), (432, 1), (433, 1), (434, 1)], [(17, 1), (33, 2), (47, 1), (54, 1), (71, 2), (119, 1), (185, 1), (225, 1), (238, 2), (247, 2), (252, 1), (290, 1), (339, 3), (367, 2), (383, 2), (397, 1), (417, 1), (429, 1), (435, 1), (436, 1), (437, 1), (438, 1), (439, 1), (440, 4), (441, 3), (442, 1), (443, 1), (444, 2), (445, 1), (446, 1), (447, 1), (448, 1), (449, 1), (450, 1), (451, 1), (452, 1), (453, 1), (454, 1), (455, 1), (456, 1), (457, 1), (458, 1), (459, 1), (460, 1), (461, 3), (462, 2), (463, 1), (464, 1), (465, 1), (466, 4), (467, 2), (468, 1), (469, 1), (470, 1), (471, 1), (472, 1), (473, 1), (474, 1), (475, 2), (476, 1), (477, 1), (478, 1), (479, 1), (480, 2), (481, 1), (482, 1), (483, 1), (484, 1), (485, 1), (486, 1), (487, 1), (488, 1), (489, 2), (490, 1), (491, 3), (492, 2), (493, 1), (494, 2), (495, 1), (496, 1), (497, 1), (498, 1), (499, 1), (500, 3), (501, 1), (502, 1), (503, 2), (504, 1), (505, 1), (506, 1), (507, 2), (508, 1), (509, 5), (510, 1), (511, 1), (512, 1), (513, 1), (514, 1), (515, 1), (516, 3), (517, 1), (518, 3), (519, 1), (520, 1), (521, 1), (522, 1), (523, 1), (524, 1), (525, 1), (526, 2), (527, 3), (528, 1), (529, 1), (530, 1), (531, 1), (532, 3), (533, 1), (534, 4), (535, 1), (536, 2), (537, 1), (538, 1), (539, 1), (540, 1), (541, 1), (542, 1), (543, 1), (544, 1), (545, 1), (546, 2), (547, 1), (548, 1), (549, 1), (550, 1), (551, 1), (552, 1), (553, 1), (554, 1), (555, 3), (556, 3), (557, 1), (558, 1), (559, 1), (560, 3), (561, 1), (562, 1), (563, 1), (564, 1), (565, 2), (566, 3), (567, 5), (568, 4), (569, 1), (570, 1)]]\n"
     ]
    }
   ],
   "source": [
    "test_corpus = [test_dictionary.doc2bow(test_doc) for test_doc in test_docs]\n",
    "print(test_corpus[:3])"
   ]
  },
  {
   "cell_type": "markdown",
   "metadata": {},
   "source": [
    "### 5. train_corpus , train_dicitonary 를 이용한 ldamodel"
   ]
  },
  {
   "cell_type": "code",
   "execution_count": 39,
   "metadata": {},
   "outputs": [
    {
     "data": {
      "text/plain": [
       "[(0, '0.009*\"등\" + 0.008*\"것\" + 0.007*\"수\" + 0.007*\"라돈\" + 0.007*\"방사선\"'),\n",
       " (1, '0.008*\"등\" + 0.007*\"수\" + 0.007*\"것\" + 0.006*\"뇌질환\" + 0.006*\"유한양행\"'),\n",
       " (2, '0.008*\"등\" + 0.006*\"것\" + 0.006*\"수\" + 0.006*\"뇌질환\" + 0.005*\"유한양행\"')]"
      ]
     },
     "execution_count": 39,
     "metadata": {},
     "output_type": "execute_result"
    }
   ],
   "source": [
    "train_ldamodel = gensim.models.ldamodel.LdaModel(train_corpus,\n",
    "                                           num_topics=3,\n",
    "                                           id2word=train_dictionary)\n",
    "\n",
    "# 토픽별 단어들 출력(토픽별 출력단어들 개수: 5개)\n",
    "# 단어 옆의 숫자는 가중치(각 토픽에서 해당 단어가 설명하는 비중) 의미\n",
    "train_ldamodel.print_topics(num_words=5)"
   ]
  },
  {
   "cell_type": "markdown",
   "metadata": {},
   "source": [
    "### 5. test_corpus , test_dicitonary 를 이용한 ldamodel"
   ]
  },
  {
   "cell_type": "code",
   "execution_count": 40,
   "metadata": {},
   "outputs": [
    {
     "data": {
      "text/plain": [
       "[(0, '0.011*\"등\" + 0.009*\"삼성\" + 0.009*\"수\" + 0.008*\"◆\" + 0.008*\"랩\"'),\n",
       " (1, '0.018*\"스타트업\" + 0.014*\"랩\" + 0.013*\"기\" + 0.013*\"수\" + 0.011*\"삼성전자\"'),\n",
       " (2, '0.013*\"스타트업\" + 0.011*\"등\" + 0.009*\"삼성전자\" + 0.008*\"수\" + 0.008*\"랩\"')]"
      ]
     },
     "execution_count": 40,
     "metadata": {},
     "output_type": "execute_result"
    }
   ],
   "source": [
    "test_ldamodel = gensim.models.ldamodel.LdaModel(test_corpus,\n",
    "                                           num_topics=3,\n",
    "                                           id2word=test_dictionary)\n",
    "\n",
    "# 토픽별 단어들 출력(토픽별 출력단어들 개수: 5개)\n",
    "# 단어 옆의 숫자는 가중치(각 토픽에서 해당 단어가 설명하는 비중) 의미\n",
    "test_ldamodel.print_topics(num_words=5)"
   ]
  },
  {
   "cell_type": "markdown",
   "metadata": {},
   "source": [
    "### 6. train_ldamodel Perplexity, Coherence Score 구하기"
   ]
  },
  {
   "cell_type": "code",
   "execution_count": 43,
   "metadata": {},
   "outputs": [
    {
     "name": "stdout",
     "output_type": "stream",
     "text": [
      "\n",
      "Perplexity :  -7.450135301359442\n",
      "\n",
      "Coherence Score :  0.30107079362042427\n"
     ]
    }
   ],
   "source": [
    "from gensim.models import CoherenceModel\n",
    "print(\"\\nPerplexity : \", train_ldamodel.log_perplexity(train_corpus))\n",
    "# toppn : 상위 N  개의 단어를 이용해서 유사도를 계산하라는 의미\n",
    "train_coherence_model_lda = CoherenceModel(model=train_ldamodel,\n",
    "                                     texts=train_docs,\n",
    "                                     dictionary=train_dictionary,\n",
    "                                     topn=10)\n",
    "train_coherence_lda = train_coherence_model_lda.get_coherence()\n",
    "print(\"\\nCoherence Score : \", train_coherence_lda)"
   ]
  },
  {
   "cell_type": "markdown",
   "metadata": {},
   "source": [
    "### 6. test_ldamodel Perplexity, Coherence Score 구하기"
   ]
  },
  {
   "cell_type": "code",
   "execution_count": 45,
   "metadata": {},
   "outputs": [
    {
     "name": "stdout",
     "output_type": "stream",
     "text": [
      "\n",
      "Perplexity :  -6.960148669824639\n",
      "\n",
      "Coherence Score :  0.4288333959052914\n"
     ]
    }
   ],
   "source": [
    "from gensim.models import CoherenceModel\n",
    "print(\"\\nPerplexity : \", test_ldamodel.log_perplexity(test_corpus))\n",
    "# toppn : 상위 N  개의 단어를 이용해서 유사도를 계산하라는 의미\n",
    "test_coherence_model_lda = CoherenceModel(model=test_ldamodel,\n",
    "                                     texts=test_docs,\n",
    "                                     dictionary=test_dictionary,\n",
    "                                     topn=10)\n",
    "test_coherence_lda = test_coherence_model_lda.get_coherence()\n",
    "print(\"\\nCoherence Score : \", test_coherence_lda)"
   ]
  },
  {
   "cell_type": "markdown",
   "metadata": {},
   "source": [
    "### 7. train_ldamodel perplexity 지표 변화"
   ]
  },
  {
   "cell_type": "code",
   "execution_count": 48,
   "metadata": {},
   "outputs": [],
   "source": [
    "import matplotlib.pyplot as plt\n",
    "\n",
    "# 토픽의 개수를 달리하며 perplexity 지표 변화를 보여줌\n",
    "\n",
    "train_perplexity_values = []\n",
    "for i in range(2, 10):\n",
    "    train_ldamodel = gensim.models.ldamodel.LdaModel(train_corpus,\n",
    "                                               num_topics=i,\n",
    "                                              id2word=train_dictionary)\n",
    "    train_perplexity_values.append(train_ldamodel.log_perplexity(train_corpus))"
   ]
  },
  {
   "cell_type": "code",
   "execution_count": 49,
   "metadata": {},
   "outputs": [
    {
     "data": {
      "image/png": "[encoded data removed]",
      "text/plain": [
       "<Figure size 432x288 with 1 Axes>"
      ]
     },
     "metadata": {
      "needs_background": "light"
     },
     "output_type": "display_data"
    }
   ],
   "source": [
    "x = range(2, 10)\n",
    "plt.plot(x, train_perplexity_values)\n",
    "plt.xlabel(\"Number of topices\")\n",
    "plt.ylabel(\"Perplexitry score\")\n",
    "plt.show()"
   ]
  },
  {
   "cell_type": "markdown",
   "metadata": {},
   "source": [
    "### 7. test_ldamodel perplexity 지표 변화"
   ]
  },
  {
   "cell_type": "code",
   "execution_count": 50,
   "metadata": {},
   "outputs": [],
   "source": [
    "import matplotlib.pyplot as plt\n",
    "\n",
    "# 토픽의 개수를 달리하며 perplexity 지표 변화를 보여줌\n",
    "test_perplexity_values = []\n",
    "\n",
    "for i in range(2, 10):\n",
    "    test_ldamodel = gensim.models.ldamodel.LdaModel(test_corpus,\n",
    "                                               num_topics=i,\n",
    "                                              id2word=test_dictionary)\n",
    "    perplexity_values.append(test_ldamodel.log_perplexity(test_corpus))"
   ]
  },
  {
   "cell_type": "code",
   "execution_count": 51,
   "metadata": {},
   "outputs": [
    {
     "data": {
      "image/png": "[encoded data removed]",
      "text/plain": [
       "<Figure size 432x288 with 1 Axes>"
      ]
     },
     "metadata": {
      "needs_background": "light"
     },
     "output_type": "display_data"
    }
   ],
   "source": [
    "x = range(2, 10)\n",
    "plt.plot(x, test_perplexity_values)\n",
    "plt.xlabel(\"Number of topices\")\n",
    "plt.ylabel(\"Perplexitry score\")\n",
    "plt.show()"
   ]
  },
  {
   "cell_type": "markdown",
   "metadata": {},
   "source": [
    "### 8. train data =>  topic coherence 지표 변화를 보여줌"
   ]
  },
  {
   "cell_type": "code",
   "execution_count": 52,
   "metadata": {},
   "outputs": [],
   "source": [
    "# 토픽의 개수를 달리하며 topic coherence 지표 변화를 보여줌\n",
    "train_coherence_values = []\n",
    "\n",
    "for i in range(2, 10):\n",
    "    train_ldamodel = gensim.models.ldamodel.LdaModel(train_corpus,\n",
    "                                               num_topics=i,\n",
    "                                               id2word=train_dictionary)\n",
    "    train_coherence_model_lda = CoherenceModel(model=train_ldamodel,\n",
    "                                         texts=train_docs,\n",
    "                                         dictionary=train_dictionary,\n",
    "                                         topn=10)\n",
    "    train_coherence_lda = train_coherence_model_lda.get_coherence()\n",
    "    train_coherence_values.append(train_coherence_lda)"
   ]
  },
  {
   "cell_type": "code",
   "execution_count": 54,
   "metadata": {},
   "outputs": [
    {
     "data": {
      "image/png": "[encoded data removed]",
      "text/plain": [
       "<Figure size 432x288 with 1 Axes>"
      ]
     },
     "metadata": {
      "needs_background": "light"
     },
     "output_type": "display_data"
    }
   ],
   "source": [
    "x = range(2, 10)\n",
    "plt.plot(x, train_coherence_values)\n",
    "plt.xlabel('Number of topics')\n",
    "plt.ylabel('coherence score')\n",
    "plt.show()"
   ]
  },
  {
   "cell_type": "markdown",
   "metadata": {},
   "source": [
    "### 8. test data =>  topic coherence 지표 변화를 보여줌"
   ]
  },
  {
   "cell_type": "code",
   "execution_count": 57,
   "metadata": {},
   "outputs": [],
   "source": [
    "# 토픽의 개수를 달리하며 topic coherence 지표 변화를 보여줌\n",
    "test_coherence_values = []\n",
    "\n",
    "for i in range(2, 10):\n",
    "    test_ldamodel = gensim.models.ldamodel.LdaModel(test_corpus,\n",
    "                                               num_topics=i,\n",
    "                                               id2word=test_dictionary)\n",
    "    test_coherence_model_lda = CoherenceModel(model=test_ldamodel,\n",
    "                                         texts=test_docs,\n",
    "                                         dictionary=test_dictionary,\n",
    "                                         topn=10)\n",
    "    test_coherence_lda = test_coherence_model_lda.get_coherence()\n",
    "    test_coherence_values.append(test_coherence_lda)"
   ]
  },
  {
   "cell_type": "code",
   "execution_count": 58,
   "metadata": {},
   "outputs": [
    {
     "data": {
      "image/png": "[encoded data removed]",
      "text/plain": [
       "<Figure size 432x288 with 1 Axes>"
      ]
     },
     "metadata": {
      "needs_background": "light"
     },
     "output_type": "display_data"
    }
   ],
   "source": [
    "x = range(2, 10)\n",
    "plt.plot(x, test_coherence_values)\n",
    "plt.xlabel('Number of topics')\n",
    "plt.ylabel('coherence score')\n",
    "plt.show()"
   ]
  }
 ],
 "metadata": {
  "kernelspec": {
   "display_name": "Python [conda env:py36] *",
   "language": "python",
   "name": "conda-env-py36-py"
  },
  "language_info": {
   "codemirror_mode": {
    "name": "ipython",
    "version": 3
   },
   "file_extension": ".py",
   "mimetype": "text/x-python",
   "name": "python",
   "nbconvert_exporter": "python",
   "pygments_lexer": "ipython3",
   "version": "3.6.10"
  }
 },
 "nbformat": 4,
 "nbformat_minor": 2
}
