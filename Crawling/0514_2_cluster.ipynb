{
 "cells": [
  {
   "cell_type": "code",
   "execution_count": 1,
   "metadata": {},
   "outputs": [
    {
     "name": "stdout",
     "output_type": "stream",
     "text": [
      "C:\\Program Files\\Java\\jdk1.8.0_191\n"
     ]
    }
   ],
   "source": [
    "import os\n",
    "java_home = os.environ.get('JAVA_HOME', None)\n",
    "if not java_home:\n",
    "    java_path = 'C:\\Program Files\\Java\\jdk1.8.0_191/bin'\n",
    "    os.environ['JAVA_HOME'] = java_path\n",
    "else:\n",
    "    print(java_home)"
   ]
  },
  {
   "cell_type": "code",
   "execution_count": 2,
   "metadata": {},
   "outputs": [],
   "source": [
    "# K-평균 군집 분석\n",
    "import pandas as pd\n",
    "from konlpy.tag import Hannanum\n",
    "from sklearn.feature_extraction.text import CountVectorizer\n",
    "from sklearn.cluster import KMeans"
   ]
  },
  {
   "cell_type": "code",
   "execution_count": 3,
   "metadata": {},
   "outputs": [
    {
     "data": {
      "text/html": [
       "<div>\n",
       "<style scoped>\n",
       "    .dataframe tbody tr th:only-of-type {\n",
       "        vertical-align: middle;\n",
       "    }\n",
       "\n",
       "    .dataframe tbody tr th {\n",
       "        vertical-align: top;\n",
       "    }\n",
       "\n",
       "    .dataframe thead th {\n",
       "        text-align: right;\n",
       "    }\n",
       "</style>\n",
       "<table border=\"1\" class=\"dataframe\">\n",
       "  <thead>\n",
       "    <tr style=\"text-align: right;\">\n",
       "      <th></th>\n",
       "      <th>검색어</th>\n",
       "      <th>기사내용</th>\n",
       "    </tr>\n",
       "  </thead>\n",
       "  <tbody>\n",
       "    <tr>\n",
       "      <th>0</th>\n",
       "      <td>유한양행</td>\n",
       "      <td>유한양행은 얀센 바이오테크(Janssen Biotech Inc)와 EGFR표적 항암...</td>\n",
       "    </tr>\n",
       "    <tr>\n",
       "      <th>1</th>\n",
       "      <td>유한양행</td>\n",
       "      <td>유한양행이 1조4000억원 규모의 기술이전 계약 체결 소식에 가격제한폭까지 치솟았다...</td>\n",
       "    </tr>\n",
       "    <tr>\n",
       "      <th>2</th>\n",
       "      <td>유한양행</td>\n",
       "      <td>유한양행이 다국적 제약사 얀센에 기술수출했다는 소식에 주가가 5일 장 초반 상한가를...</td>\n",
       "    </tr>\n",
       "    <tr>\n",
       "      <th>3</th>\n",
       "      <td>유한양행</td>\n",
       "      <td>유한양행은 얀센 바이오테크((Janssen Biotech, Inc.)와 EGFR(상...</td>\n",
       "    </tr>\n",
       "    <tr>\n",
       "      <th>4</th>\n",
       "      <td>유한양행</td>\n",
       "      <td>유한양행이 1조4000억원 규모 기술 수출 소식에 가격제한폭까지 치솟았다. 유한양행...</td>\n",
       "    </tr>\n",
       "  </tbody>\n",
       "</table>\n",
       "</div>"
      ],
      "text/plain": [
       "    검색어                                               기사내용\n",
       "0  유한양행  유한양행은 얀센 바이오테크(Janssen Biotech Inc)와 EGFR표적 항암...\n",
       "1  유한양행  유한양행이 1조4000억원 규모의 기술이전 계약 체결 소식에 가격제한폭까지 치솟았다...\n",
       "2  유한양행  유한양행이 다국적 제약사 얀센에 기술수출했다는 소식에 주가가 5일 장 초반 상한가를...\n",
       "3  유한양행  유한양행은 얀센 바이오테크((Janssen Biotech, Inc.)와 EGFR(상...\n",
       "4  유한양행  유한양행이 1조4000억원 규모 기술 수출 소식에 가격제한폭까지 치솟았다. 유한양행..."
      ]
     },
     "execution_count": 3,
     "metadata": {},
     "output_type": "execute_result"
    }
   ],
   "source": [
    "hannanum = Hannanum()\n",
    "Data = pd.read_csv('C:/Users/330-15/Desktop/20_1_computer/tmwithpython/군집분석데이터.csv',\n",
    "                  engine='python')\n",
    "Data.head()"
   ]
  },
  {
   "cell_type": "code",
   "execution_count": 4,
   "metadata": {},
   "outputs": [
    {
     "name": "stdout",
     "output_type": "stream",
     "text": [
      "[['유한양행', '얀센', '바이오테크(Janssen', '표적', '항암', '치료제', '기술이전', '계약', '체결', '5일', '공시', '기술수출금액', '12억5500만달러(한화', '약', '1조3416억원', '계약금', '5000만달러', '개발', '허가', '매출', '단계별', '마일스톤', '12억500만달러', '수령', '예정', '경상기술료', '순매출액', '책정', '유한양행', '관계자', '기술이전', '계약', '수익', '식', '임상시험', '허가', '등', '성공여부', '수', '미실현', '가능성'], ['유한양행', '1조4000억원', '규모', '기술이전', '계약', '체결', '소식', '가격제한폭', '5일', '오전', '9시', '3분', '유한양행', '전날', '5만3000원(29.', '78', '23만1000원', '거래', '사흘', '연속', '강세', '유한양행', '글로벌', '제약사', '존슨앤존슨(J&J)', '자회사', '얀센', '바이오테크(Janssen', '저해제', '‘레이저티닙’(프로젝트명', 'YH25448)', '기술수출', '계약', '체결', '이날', '계약규모', '약', '1조4000억원(12억5500만달러)', '반환', '의무', '계약금', '560억원(5000', '이번', '계약', '얀센', '전세계', '레이저티닙', '개발', '제조', '상업화', '독점적', '권리', '국내', '개발', '상업화', '권리', '유한양행', '유', '유한양행', '얀센', '바이오텍', '내년', '레이저티닙', '단일요법', '병용요법', '글로벌', '임상시험', '공동', '진행', '예정', '유한양행', '개발', '허가', '상업화', '성공', '단계별', '마일스톤', '기술료', '12억500', '달러(약', '1조3500억원', '수', '임상시험', '허가', '상업화', '실패', '경우', '기술이전', '계약', '종료', '경우', '유한양행', '얀센', '측', '지급', '위약금'], ['유한양행', '다국적', '제약사', '얀센', '기술수출', '소식', '주가', '5일', '장', '초반', '상한가', '유한양행', '이날', '오전', '9시', '5분', '현재', '유가증권시장', '전', '거래일', '5만3000원(29.', '78', '23만1000원', '거래', '유한양행', '얀센', '바이오테크', '상피세포', '성장', '자', '수용체', '표적', '항암', '치료제', '기술', '이전', '계약', '체결', '이날', '장', '개장', '전', '공시', '이번', '계약금', '5000', '개발', '상업화', '단계별', '기술료(마일스톤)', '12억500', '달러', '기술수출', '규모', '12억5500', '달러(약', '1조4000억원', '서근희', '삼성증권', '연구원', '유한양행', '이번', '기술수출', '계약', '소식', '한미약품', '이후', '기술', '이전', '계약', '투자자들', '갈증', '해소', '전망', '\"한미약품', '사노피', '기술', '이전', '계약', '체결', '이후', '2번', '계약', '규모', '말'], ['유한양행', '얀센', '바이오테크((Janssen', '상피세포성장인자수용체', '표적', '항암', '치료제', '기술이전', '계약', '5일', '공시', '기술수출금액', '미화', '12억5천500', '달러', '계약금', '5천', '달러', '개발', '허가', '매출', '단계별', '마일스톤', '12억500', '달러', '수령', '예정', '계약', '지역', '한국', '제외', '전', '세계'], ['유한양행', '1조4000억원', '규모', '기술', '수출', '소식', '가격제한폭', '유한양행우', '상한가', '5일', '오전', '9시9분', '유한양행', '전일대비', '5만3000원(29.', '78', '급등', '23만1000원', '기록', '중', '유한양행우', '5만2500원(29.', '91', '22만8000원', '거래', '이날', '유한양행', '다국적', '제약사', '얀센(Janssen)', '비소세포폐암치료제', '레이저티닙(YH25448)', '글로벌', '판', '한국제', '기술이전', '계약', '체결', '공시', '계약규모', '약', '1조4000억원(12억5500만달러)', '반환', '의무', '계약금', '560억원(5000만', '얀센', '한국', '제외', '전', '세계', '레이저티닙', '개발', '제조', '상업화', '독점적', '권리', '국내', '개발', '상업화', '권리', '유한양행', '유', '유한양행', '얀센', '내년', '레이저티닙', '단일요법', '병용요법', '글로벌', '임상시험', '공동', '진행', '계획', '레이저티닙', '경구용', '3세대', '상피세포성장인자수용체', '타이로신', '인산화효소(EGFR', '억제제', '이', '관련', '선민정', '하나금융투', '연구원', '\"레이저티닙', '경우', '올해', '3개', '포스터', '국제', '학회', '발표', '시장', '글로벌', '제약사들', '관심', '후보물질', '이번', '유한양행', '기술이전', '제약바이오', '섹터', '투자자들', '오랫동안', '초대박', '기술이전', '수', '평가'], ['침대', '매트리스', '이', '온수매트', '라돈', '검출', '소식', '가정', '곳곳', '라돈', '검출', '우려', '불식', '이', '라돈측정기', '사용', '주민', '대구', '경우', '대구시', '8월', '가정용', '라돈측정기', '대', '대여료', '1천원', '대구시', '당시', '가정용', '라돈측정기', '50대', '구입', '8개', '구청', '군청', '신분증', '지참', '신청서', '작성', '사용료', '1천원', '선납한', '뒤', '1박2일간', '수', '라돈', '측정기', '벽·천장·바닥', '등', '50㎝', '이상', '사용', '출입문', '창', '전자제품', '곳', '측정기', '뒤', '방문', '창문', '공간', '밀폐', '다음', '측정기', '전원', '가동', '10분', '단위', '자동', '측정', '1시간', '이상', '가동', '정확', '측정값', '수'], ['침대', '생리대', '마스크', '등', '라돈', '검출', '발암', '물질', '‘라돈’', '관심', '라돈', '자연', '방사성', '가스', '1급', '발암물질', '라돈', '무색', '기체', '공기', '약', '8배', '토양', '암석', '등', '존재', '실생활', '실내', '바닥', '벽', '사이', '유입', '라돈', '‘폐암’', '원', '중', '하나', '국제암연구기구(IARC)', '1군', '발암물질', '분류', '라돈', '방사선', '때문', '미국환경보호국(US', '라돈', '일반', '인구', '집단', '흡연', '다음', '순', '폐암', '원인', '설명', '한편', '원자력', '전', '위원회', '생활방사선', '의심제품', '조사', '확대', '산하기관', '한국원자력안전기술원', '‘생활방사선', '안전센터’', '2일', '발족', '원안위', '“연내', '조사', '인력', '15명', '47명', '리', '10대', '분석', '장비', '20대', '확충', '것”이라', '“의심제품', '신속', '평가', '홈페이지', '결함', '제품', '정보', '조치', '현황', '소비자', '대응', '요령', '등', '공개', '계획”'], ['하이젠', '온수매트', '라돈', '온수매트', '언급', '온라인커뮤니티', '하이젠', '온수매트', '구매', '후', '아이', '기침', '골자', '게시물', '업로드', '시선', '글쓴이', '라돈', '아이', '대', '측정', '결과', '하이젠', '온수매트', '라돈', '16.', '이', '하이젠', '온수매트', '사용', '이', '라돈', '측정기', '대', '라돈', '측정', '환경부', '권고', '라돈', '검출', '것', '확인', '충격', '이', '하이젠', '온수매트', '조사', '(주)대현하이텍', '(주)알엔테크', '진행', '라돈', '측정시험결과표', '검사', '결과', '공지', '소비자들', '불안', '마음', '대현하이텍', '불편함', '들', '기본', '매트', '신규', '매트', '교환', '입장', '전달한', '상태', '한편', '하이젠', '온수매트', '라돈', '검출', '논란', '직후', '소비자들', '포털사이트', '네이버', '온수매트', '라돈피해', '카페', '각자', '정보', '교환', '이곳', '화', '고객센터', '연락', '글', '게재', '누리꾼들', '이목', '집중'], ['겨울', '난방', '제품', '온수매트', '라돈', '검출', '가운데', '해당', '업체', '문제', '말', '5일', '방송', '생방송', '오늘', '아침', '일부', '온수매트', '라돈', '검출', '이날', '방송', '주부', '집', '사용', '온수매트', '라돈', '검출', '비닐', '몇', '겹', '포장해', '창고', '보관', '말', '주부', '세살', '아이', '라돈', '수', '매트', '생활했다\"며', '불안감', '해당', '온수매트', '라돈', '수치', '218베크렐(Bq/㎥)', '기준치', '수치', '음이온', '기능', '강조', '매트', '음이온', '때문', '라돈', '검출', '것', '공포', '대상', '온수매트', '사용', '소비자들', '사용', '후', '기침', '콧물', '설명', '주부', '아이', '사용', '온수매트', '공식', '기관', '의뢰', '라돈', '수치', '기준치', '10배', '1,520베크렐', '검출', '불안', '해당', '온수매트', '조사', '이', '한', '달', '동안', '측정', '수치상', '정상', '문제', '말', '한편', '방송이', '뒤', '온수매트', '라돈', '피해자', '카페', '해당', '제품', '사용', '후', '등', '라돈', '피해', '것', '내용', '글'], ['매트리스', '생리대', '이', '수', '매트', '라돈', '검출', '이슈', '5일', '오전', '방송', '‘생방송', '오늘', '아침’에서', '라돈', '검출', '일부', '수', '매트', '이날', '방송', '가정용', '수', '매트', '라돈', '검출', '한', '주부', '사연', '공개', '검사결과', '해당', '수', '매트', '검출', '라돈', '218Bq/㎥로,', '법', '기준치', '수치', '주부', '관련', '기관', '협조', '수', '매트', '라돈', '수치', '측정', '결과', '기준치', '10배', '1,520', 'Bq/㎥', '검출', '해당', '수', '매트', '조사', '“한', '달', '동안', '측정', '정상', '수치', '때문', '문제', '않는다”고', '해명', '라돈', '수', '매트', '괴담', '블로거', '수', '매트', '구매', '후', '자녀', '기침', '시작', '글', '게재', '시작', '해당', '글', '작성자', '“당시', '라돈', '문제', '불안', '마음', '라돈', '측정기', '대', '측정했다”고', '해당', '수', '매트', '16.', '라돈', '측정', '이', '기준치', '네', '배', '수치'], ['복면가왕’', '88대', '가왕', '자리', '2연승', '왕밤빵', '4일', '오후', '방송', '예능프로그램', \"'복면가왕'에서\", '4인', '가수들', '가왕', '왕밤빵에', '도전', '2라운드', '첫번', '대결', '축음기', '조커', '무대', '공개', '축음기', '임정희', '진짜', '리', '열창', '빠져들', '수', '밖', '애절한', '음색', '최고', '무대', '이', '조커', '헤이즈', '저', '선택', '랩', '완벽', '소화', '감미로운', '음색', '판정단', '마음', '조커', '노래', '유영석', '\"트렌디한', '음색', '안정감', '평가', '투표결과', '축음기', '승리', '가면', '조커', '정체', '워너원', '이대휘', '이날', '판정단', '미주', '이대휘', '정체', '알아맞춰', '눈길', '김성주', '그', '소감', '이대휘', '사람들', '아이돌', '저', '가수', '능력', '것', '2라운드에서', '북극곰', '버블버블', '대결', '무대', '북금곰', '빅마마', '폭발적', '북극곰', '무대', '버블버블', '무대', '크러쉬', '감미', '북극곰', '매력', '무대', '카', '버블버블', '무대', '이승환', '것', '극찬', '대결', '결과', '버블버블', '60표', '승리', '복면', '북극곰', '정체', '감성', '발라더', '이기찬', '그', '3년', '재출연', '결정한', '이유', '\"복면가왕', '발전', '뿌듯', '답', '이', '\"1라운드', '통과', '기분', '소감', '이', '축음기', '버블버블', '가왕', '대적하기', '마지막', '대결', '축음기', '박정현', '미아', '폭발적', '성량', '가창력', '열창', '이승환', '천일', '선곡', '버블버블', '이승환', '리', '깨끗', '음색', '모두', '빠져들', '투표', '결과', '축음기', '승리', '가면', '버블버블', '정체', '가수', '라디', '달콤한', '러브송', '장인', '라디는', '이미지', '축음기', '도전', '가왕', '왕밤빵', '첫', '번', '가왕', '방어전', '무대', '그', '선택', '곡', '이적', '그', '가왕답게', '첫', '소절', '특유', '허스키', '목소리', '노래', '청중단', '탄성', '무대', '김현철', '장점', '곡이었다\"며', '장기', '가왕', '것', '말', '대결', '결과', '왕밤빵', '2연승', '88대', '가왕', '자리', '그', '69표', '도전자', '축음기', '가왕', '방어전', '성공', '그', '최선', '것', '한표', '감사하다\"며', '소감', '가왕', '대결', '축음기', '정체', '천단비', '한편', \"'복면가왕'\", '마스크', '정체', '채', '노래', '실력', '발휘', '음악', '버라이어티', '프로그램', '일요일', '오후', '4시', '50분', '방송'], [\"복면가왕'\", '출연', '왕밤빵', '얼굴', '공개', '축음기', '천단비', '관심', '4일', '방송', '예능프로그램', \"'복면가왕'에서\", '왕밤빵', '축음기', '88대', '가왕', '자리', '대결', '결과', '왕밤빵', '가왕', '이날', '축음기', '박정현', '미아', '가창력', '자랑', '왕밤빵', '이', '축음기', '가면', '정체', '가수', '천단비', '천단비', '방송이', '후', '자신', '인스타그램', '제', '무대', '소중', '순간', '소중', '행복', '순간', '하나', \"'복면가왕'\", '출연', '소감', '천단비', '2015년', \"'슈퍼스타K7'\", '출연', '주목', '데뷔', '2005년', \"'건빵선생\", \"별사탕'\", '눈물샘', '데뷔', '바', \"'슈스케7'\", '준우승', '후', '각종', '참여', '노래', '천단비', '지난해', '봄', '거짓말', '발매', '들', '사랑'], ['4일', '방송', '‘복면가왕’에서', '왕밤빵', '축음기', '조커', '북극곰', '버블버블', '대결', '2라운드', '첫', '번', '대결', '축음기', '조커', '축음기', '임정희', '‘진짜', '리', '없어’를,', '조커', '헤이즈', '‘저', '별’', '승자', '축음기', '조커', '정체', '워너원', '멤버', '이대휘', '2라운드', '두', '번', '대결', '북극곰', '버블버블', '무대', '북극곰', '빅마마', '‘Break', 'Away’를,', '버블버블', '크러쉬', '‘Beautiful’', '승자', '버블버블', '북극곰', '정체', '가수', '이기찬', '3라운드에서', '축음기', '버블버블', '축음기', '박정현', '‘미아’', '버블버블', '이승환', '‘천일동안’', '선곡', '승자', '축음기', '버블버블', '정체', '가수', '라디', '마지막', '무대', '왕밤빵', '가왕방어전', '왕밤빵', '이적', '‘Rain’', '선택', '이번', '가왕', '자리', '축음기', '정체', '코러스가수', '출신', '천단비', '누리꾼들', '2연승', '왕밤빵', '가수', '김용진', '뮤지', '것', '추측'], [\"복면가왕'\", '왕밤빵', '정체', '오리무중', '4일', '방송', '예능프로그램', \"'복면가왕'에서\", '왕밤빵', '2연승', '성공', '가왕', '자리', '모습', '이날', \"'복면가왕'에서\", '왕밤빵', '축음기', '88대', '가왕', '자리', '무대', '축음기', '미아', '선곡', '이', '왕밤빵', \"'레인(Rain)'\", '선곡', '두', '사람', '각각', '음색', '호소력', '무대', '완성', '경연', '결과', '왕밤빵', '축음기', '2주', '연속', '가왕', '자리', '축음기', '정체', '가수', '슈퍼스타', '출신', '가수', '천단비', '그', '주변', \"'복면가왕'\", '출연', '말', '감회', '소회', '2연승', '성공', '왕밤빵', '최선', '것', '관객분', '표', '것', '소감', '이날', '방송', '이후', '왕밤빵', '정체', '관련해', '시청자들', '궁금증', '김용진', '뮤지', '설왕설래', '가운데', '두', '사람', '가운데', '왕밤빵', '주인공', '지', '이목', '집중'], [\"복면가왕'\", '왕밤빵', '첫', '방어전', '성공', '2연승', '4일', '방송', \"'복면가왕'에서\", '왕밤빵', '축음기', '가왕전', '모습', '이날', '방송', '축음기', '청아한', '목소리', '미아', '왕밤빵', '호소력', '무대', '장악', '88대', '가왕전', '승자', '왕밤빵', '2연승', '왕밤빵', '최선', '것', '표', '것', '소감', '설소영', '기자', '한편', '방송', '이후', \"'왕밤빵'\", '정체', '김용진', '거론', '그', '2005년', '아이', '이름', '가요계', '데뷔', '김용진', '2007년', '본명', '활동', '그', '드라마', '봄날', '각시탈', '나무', '참가', '불후', '명곡', '출연']]\n"
     ]
    }
   ],
   "source": [
    "docs = []\n",
    "for i in Data['기사내용']:\n",
    "    docs.append(hannanum.nouns(i))\n",
    "print (docs)"
   ]
  },
  {
   "cell_type": "code",
   "execution_count": 5,
   "metadata": {},
   "outputs": [],
   "source": [
    "for i in range(len(docs)):\n",
    "    docs[i] = ' '.join(docs[i])"
   ]
  },
  {
   "cell_type": "code",
   "execution_count": 6,
   "metadata": {},
   "outputs": [],
   "source": [
    "vec = CountVectorizer()\n",
    "X = vec.fit_transform(docs)"
   ]
  },
  {
   "cell_type": "code",
   "execution_count": 7,
   "metadata": {},
   "outputs": [],
   "source": [
    "df = pd.DataFrame(X.toarray(), columns = vec.get_feature_names())"
   ]
  },
  {
   "cell_type": "code",
   "execution_count": 8,
   "metadata": {},
   "outputs": [
    {
     "data": {
      "text/plain": [
       "array([0, 0, 0, 0, 0, 2, 2, 2, 2, 2, 1, 1, 1, 1, 1])"
      ]
     },
     "execution_count": 8,
     "metadata": {},
     "output_type": "execute_result"
    }
   ],
   "source": [
    "kmeans = KMeans(n_clusters=3).fit(df)\n",
    "kmeans.labels_"
   ]
  },
  {
   "cell_type": "code",
   "execution_count": 16,
   "metadata": {},
   "outputs": [],
   "source": [
    "from sklearn.decomposition import PCA\n",
    "import matplotlib.pyplot as plt\n",
    "\n",
    "pca = PCA(n_components=2)\n",
    "principalComponents = pca.fit_transform(df)\n",
    "principalDf = pd.DataFrame(data=principalComponents,\n",
    "                          columns=['pricipal component 1', 'pricipal component 2'])\n",
    "principalDf.index = Data['검색어']"
   ]
  },
  {
   "cell_type": "code",
   "execution_count": 17,
   "metadata": {},
   "outputs": [
    {
     "data": {
      "text/plain": [
       "<matplotlib.legend.Legend at 0x17b26013eb8>"
      ]
     },
     "execution_count": 17,
     "metadata": {},
     "output_type": "execute_result"
    },
    {
     "data": {
      "image/png": "[encoded data removed]",
      "text/plain": [
       "<Figure size 432x288 with 1 Axes>"
      ]
     },
     "metadata": {
      "needs_background": "light"
     },
     "output_type": "display_data"
    }
   ],
   "source": [
    "plt.scatter(principalDf.iloc[kmeans.labels_==0, 0], \n",
    "            principalDf.iloc[kmeans.labels_==0, 1], \n",
    "            s=10, c='red', label='cluster1')\n",
    "plt.scatter(principalDf.iloc[kmeans.labels_==1, 0], \n",
    "            principalDf.iloc[kmeans.labels_==1, 1], \n",
    "            s=10, c='blue', label='cluster2')\n",
    "plt.scatter(principalDf.iloc[kmeans.labels_==2, 0], \n",
    "            principalDf.iloc[kmeans.labels_==2, 1], \n",
    "            s=10, c='green', label='cluster3')\n",
    "# plt.scatter(principalDf.iloc[kmeans.labels_==0, 0],\n",
    "#             principalDf.iloc[kmeans.labels_==0, 1],\n",
    "#             s=10, c='red', label='cluster1')\n",
    "plt.legend()"
   ]
  },
  {
   "cell_type": "code",
   "execution_count": 19,
   "metadata": {},
   "outputs": [
    {
     "ename": "ModuleNotFoundError",
     "evalue": "No module named 'pyclustering'",
     "output_type": "error",
     "traceback": [
      "\u001b[1;31m---------------------------------------------------------------------------\u001b[0m",
      "\u001b[1;31mModuleNotFoundError\u001b[0m                       Traceback (most recent call last)",
      "\u001b[1;32m<ipython-input-19-7b87c207b18e>\u001b[0m in \u001b[0;36m<module>\u001b[1;34m\u001b[0m\n\u001b[0;32m      2\u001b[0m \u001b[1;32mfrom\u001b[0m \u001b[0mkonlpy\u001b[0m\u001b[1;33m.\u001b[0m\u001b[0mtag\u001b[0m \u001b[1;32mimport\u001b[0m \u001b[0mHannanum\u001b[0m\u001b[1;33m\u001b[0m\u001b[1;33m\u001b[0m\u001b[0m\n\u001b[0;32m      3\u001b[0m \u001b[1;32mfrom\u001b[0m \u001b[0msklearn\u001b[0m\u001b[1;33m.\u001b[0m\u001b[0mfeature_extraction\u001b[0m\u001b[1;33m.\u001b[0m\u001b[0mtext\u001b[0m \u001b[1;32mimport\u001b[0m \u001b[0mCountVectorizer\u001b[0m\u001b[1;33m\u001b[0m\u001b[1;33m\u001b[0m\u001b[0m\n\u001b[1;32m----> 4\u001b[1;33m \u001b[1;32mfrom\u001b[0m \u001b[0mpyclustering\u001b[0m\u001b[1;33m.\u001b[0m\u001b[0mcluster\u001b[0m \u001b[1;32mimport\u001b[0m \u001b[0mkmedoids\u001b[0m\u001b[1;33m\u001b[0m\u001b[1;33m\u001b[0m\u001b[0m\n\u001b[0m\u001b[0;32m      5\u001b[0m \u001b[1;32mimport\u001b[0m \u001b[0mnumpy\u001b[0m \u001b[1;32mas\u001b[0m \u001b[0mnp\u001b[0m\u001b[1;33m\u001b[0m\u001b[1;33m\u001b[0m\u001b[0m\n",
      "\u001b[1;31mModuleNotFoundError\u001b[0m: No module named 'pyclustering'"
     ]
    }
   ],
   "source": [
    "# import pandas as pd\n",
    "# from konlpy.tag import Hannanum\n",
    "# from sklearn.feature_extraction.text import CountVectorizer\n",
    "# from pyclustering.cluster import kmedoids\n",
    "# import numpy as np"
   ]
  },
  {
   "cell_type": "code",
   "execution_count": null,
   "metadata": {},
   "outputs": [],
   "source": []
  },
  {
   "cell_type": "code",
   "execution_count": null,
   "metadata": {},
   "outputs": [],
   "source": []
  },
  {
   "cell_type": "code",
   "execution_count": null,
   "metadata": {},
   "outputs": [],
   "source": []
  },
  {
   "cell_type": "code",
   "execution_count": null,
   "metadata": {},
   "outputs": [],
   "source": []
  }
 ],
 "metadata": {
  "kernelspec": {
   "display_name": "Python [conda env:py36] *",
   "language": "python",
   "name": "conda-env-py36-py"
  },
  "language_info": {
   "codemirror_mode": {
    "name": "ipython",
    "version": 3
   },
   "file_extension": ".py",
   "mimetype": "text/x-python",
   "name": "python",
   "nbconvert_exporter": "python",
   "pygments_lexer": "ipython3",
   "version": "3.6.10"
  }
 },
 "nbformat": 4,
 "nbformat_minor": 2
}
