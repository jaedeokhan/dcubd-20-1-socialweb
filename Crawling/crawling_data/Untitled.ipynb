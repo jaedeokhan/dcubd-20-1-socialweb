{
 "cells": [
  {
   "cell_type": "code",
   "execution_count": null,
   "metadata": {},
   "outputs": [],
   "source": [
    "import requests\n",
    "from bs4 import BeautifulSoup\n",
    "import json\n",
    "import re\n",
    "import sys\n",
    "import time, random\n",
    "import pandas as pd\n",
    "import pymysql\n",
    "import csv \n",
    "\n",
    "from deatil_news_crawling import deatil_get_news\n",
    "from main_crawling import main_crawling\n",
    "\n",
    "# 접속\n",
    "db = pymysql.connect(\"localhost\",\n",
    "                     \"root\",\n",
    "                     \"root\",\n",
    "                     \"news\")\n",
    "\n",
    "# 커서 가져오기\n",
    "cursor = db.cursor()\n",
    "\n",
    "\n",
    "\n"
   ]
  }
 ],
 "metadata": {
  "kernelspec": {
   "display_name": "Python [conda env:py36] *",
   "language": "python",
   "name": "conda-env-py36-py"
  },
  "language_info": {
   "codemirror_mode": {
    "name": "ipython",
    "version": 3
   },
   "file_extension": ".py",
   "mimetype": "text/x-python",
   "name": "python",
   "nbconvert_exporter": "python",
   "pygments_lexer": "ipython3",
   "version": "3.6.10"
  }
 },
 "nbformat": 4,
 "nbformat_minor": 2
}
